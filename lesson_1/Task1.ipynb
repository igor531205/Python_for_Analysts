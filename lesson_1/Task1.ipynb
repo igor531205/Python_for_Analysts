{
  "nbformat": 4,
  "nbformat_minor": 0,
  "metadata": {
    "colab": {
      "provenance": []
    },
    "kernelspec": {
      "name": "python3",
      "display_name": "Python 3"
    },
    "language_info": {
      "name": "python"
    }
  },
  "cells": [
    {
      "cell_type": "markdown",
      "source": [
        "## Задание 1:\n"
      ],
      "metadata": {
        "id": "7KVLZNYPOHpp"
      }
    },
    {
      "cell_type": "markdown",
      "source": [
        "### Оформляйте ноутбук, используя эти советы:\n",
        "\n",
        "*   Номер задачи - заголовок 2\n",
        "*   Номер подзадачи - заголовок 3\n",
        "*   Предоставленные наборы данных оформляйте, как код `Code`"
      ],
      "metadata": {
        "id": "Ruzl632aiujX"
      }
    },
    {
      "cell_type": "markdown",
      "source": [
        "## Задание 2:\n"
      ],
      "metadata": {
        "id": "p3Z12X5LPTdg"
      }
    },
    {
      "cell_type": "markdown",
      "source": [
        "На складе лежат разные фрукты в разном количестве.\n",
        "Нужно написать функцию, которая на вход принимает любое количество названий фруктов и их количество, а возвращает общее количество фруктов на складе, при помощи использования `kwargs`"
      ],
      "metadata": {
        "id": "3A00OBKhi0F-"
      }
    },
    {
      "cell_type": "code",
      "source": [
        "def amount_of_fruit(**kwargs: int) -> int:\n",
        "  '''Функция расчета общего количества фруктов'''\n",
        "  return sum(kwargs.values())\n",
        "  \n",
        "amount_of_fruit(apple=5, pear=10, orange=7)"
      ],
      "metadata": {
        "colab": {
          "base_uri": "https://localhost:8080/"
        },
        "id": "BTqiK8D9UtCq",
        "outputId": "da2221b0-2a1a-4eae-8ae9-2bedd5f7899b"
      },
      "execution_count": 1,
      "outputs": [
        {
          "output_type": "execute_result",
          "data": {
            "text/plain": [
              "22"
            ]
          },
          "metadata": {},
          "execution_count": 1
        }
      ]
    },
    {
      "cell_type": "markdown",
      "source": [
        "## Задание 3:\n"
      ],
      "metadata": {
        "id": "gERRvQwNYp2U"
      }
    },
    {
      "cell_type": "markdown",
      "source": [
        "Дан список с затратами на рекламу. Но в данных есть ошибки, некоторые затраты имеют отрицательную величину. Удалите такие значения из списка и посчитайте суммарные затраты\n",
        "`[100, 125, -90, 345, 655, -1, 0, 200]`\n",
        "Используйте `list comprehensions`"
      ],
      "metadata": {
        "id": "B6YnOpOdi6bO"
      }
    },
    {
      "cell_type": "code",
      "source": [
        "advertising_costs = [100, 125, -90, 345, 655, -1, 0, 200]\n",
        "\n",
        "def sum_positive_cost(*args: int) -> int:\n",
        "  '''Функция расчета суммы положительных затрат'''\n",
        "  return sum([value for value in args if value >= 0])\n",
        "\n",
        "sum_positive_cost(*advertising_costs)"
      ],
      "metadata": {
        "colab": {
          "base_uri": "https://localhost:8080/"
        },
        "id": "gqp1IllTbrTp",
        "outputId": "1b96df8c-d9f8-4a19-c897-86d62f1f84b0"
      },
      "execution_count": 2,
      "outputs": [
        {
          "output_type": "execute_result",
          "data": {
            "text/plain": [
              "1425"
            ]
          },
          "metadata": {},
          "execution_count": 2
        }
      ]
    },
    {
      "cell_type": "markdown",
      "source": [
        "## Задание 4:"
      ],
      "metadata": {
        "id": "beBOlAErinL3"
      }
    },
    {
      "cell_type": "markdown",
      "source": [
        "Даны два списка.\n",
        "\n",
        "Дата покупки\n",
        "`['2021-09-14', '2021-12-15', '2021-09-08', '2021-12-05', '2021-10-09', '2021-09-30', '2021-12-22', '2021-11-29', '2021-12-24', '2021-11-26', '2021-10-27', '2021-12-18', '2021-11-09', '2021-11-23', '2021-09-27', '2021-10-02', '2021-12-27', '2021-09-20', '2021-12-13', '2021-11-01', '2021-11-09', '2021-12-06', '2021-12-08', '2021-10-09', '2021-10-31', '2021-09-30', '2021-11-09', '2021-12-13', '2021-10-26', '2021-12-09']`\n",
        "\n",
        "Суммы покупок по датам\n",
        "`[1270, 8413, 9028, 3703, 5739, 4095, 295, 4944, 5723, 3701, 4471, 651, 7037, 4274, 6275, 4988, 6930, 2971, 6592, 2004, 2822, 519, 3406, 2732, 5015, 2008, 316, 6333, 5700, 2887]`"
      ],
      "metadata": {
        "id": "3Hh4NrhMjqwQ"
      }
    },
    {
      "cell_type": "code",
      "source": [
        "date_of_purchase = ['2021-09-14', '2021-12-15', '2021-09-08', '2021-12-05', \n",
        "                    '2021-10-09', '2021-09-30', '2021-12-22', '2021-11-29', \n",
        "                    '2021-12-24', '2021-11-26', '2021-10-27', '2021-12-18', \n",
        "                    '2021-11-09', '2021-11-23', '2021-09-27', '2021-10-02', \n",
        "                    '2021-12-27', '2021-09-20', '2021-12-13', '2021-11-01', \n",
        "                    '2021-11-09', '2021-12-06', '2021-12-08', '2021-10-09', \n",
        "                    '2021-10-31', '2021-09-30', '2021-11-09', '2021-12-13', \n",
        "                    '2021-10-26', '2021-12-09']\n",
        "                    \n",
        "purchase_amounts_by_dates = [1270, 8413, 9028, 3703, 5739, 4095, 295, 4944, \n",
        "                             5723, 3701, 4471, 651, 7037, 4274, 6275, 4988, \n",
        "                             6930, 2971, 6592, 2004, 2822, 519, 3406, 2732, \n",
        "                             5015, 2008, 316, 6333, 5700, 2887]"
      ],
      "metadata": {
        "id": "m_U0BGvvk-UR"
      },
      "execution_count": 3,
      "outputs": []
    },
    {
      "cell_type": "markdown",
      "source": [
        "### Задание 4.1:"
      ],
      "metadata": {
        "id": "kJMyar7lidCH"
      }
    },
    {
      "cell_type": "markdown",
      "source": [
        "Найдите, какая выручка у компании в ноябре.\n",
        "Используйте `list comprehensions`"
      ],
      "metadata": {
        "id": "pFridoiui_m-"
      }
    },
    {
      "cell_type": "code",
      "source": [
        "def purchase_by_month(dates: list, amounts: list, month: int) -> int: \n",
        "  '''Функция расчета выручки в выбранных месяцах'''\n",
        "  month = f'-{month}-'\n",
        "  return sum([value for key, value in zip(dates, amounts) if month in key])\n",
        "\n",
        "November = 11\n",
        "purchase_by_month(date_of_purchase, purchase_amounts_by_dates, November)\n"
      ],
      "metadata": {
        "colab": {
          "base_uri": "https://localhost:8080/"
        },
        "id": "YQiuV_xItdk2",
        "outputId": "d2d580a4-7feb-4386-87d8-bce27bff27af"
      },
      "execution_count": 4,
      "outputs": [
        {
          "output_type": "execute_result",
          "data": {
            "text/plain": [
              "25098"
            ]
          },
          "metadata": {},
          "execution_count": 4
        }
      ]
    },
    {
      "cell_type": "markdown",
      "source": [
        "### Задание 4.2:"
      ],
      "metadata": {
        "id": "GVtdYmnrjAs2"
      }
    },
    {
      "cell_type": "markdown",
      "source": [
        "Найдите выручку компании в зависимости от месяца.\n",
        "Для этого напишите функцию, которая на вход принимает список `list` с датами и список `list` с выручкой, а на выходе словарь `dict`, где ключи - это месяцы, а значения - это выручка.\n",
        "Используйте аннотирование типов."
      ],
      "metadata": {
        "id": "Je9ceFAdjE1O"
      }
    },
    {
      "cell_type": "code",
      "source": [
        "def revenue_by_months(dates: list, amounts: list) -> dict: \n",
        "  '''Функция расчета выручки по месяцам'''\n",
        "  month = [date.split('-')[1] for date in dates]\n",
        "  dict_revenue = {}\n",
        "  for key, value in zip(month, amounts):\n",
        "    get_value = dict_revenue.get(key)    \n",
        "    dict_revenue[key] = value + get_value if get_value else value\n",
        "  return dict(sorted(dict_revenue.items()))\n",
        "\n",
        "revenue_by_months(date_of_purchase, purchase_amounts_by_dates)"
      ],
      "metadata": {
        "colab": {
          "base_uri": "https://localhost:8080/"
        },
        "id": "vqK8iSagjF4_",
        "outputId": "2d93825b-72e7-49ff-986f-dcc5b01ae7f0"
      },
      "execution_count": 5,
      "outputs": [
        {
          "output_type": "execute_result",
          "data": {
            "text/plain": [
              "{'09': 25647, '10': 28645, '11': 25098, '12': 45452}"
            ]
          },
          "metadata": {},
          "execution_count": 5
        }
      ]
    }
  ]
}